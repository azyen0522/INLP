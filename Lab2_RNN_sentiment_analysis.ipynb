{
 "cells": [
  {
   "cell_type": "code",
   "execution_count": 1,
   "id": "add4bd48",
   "metadata": {},
   "outputs": [
    {
     "name": "stderr",
     "output_type": "stream",
     "text": [
      "/home/azyen/anaconda3/envs/litorch/lib/python3.8/site-packages/tqdm/auto.py:22: TqdmWarning: IProgress not found. Please update jupyter and ipywidgets. See https://ipywidgets.readthedocs.io/en/stable/user_install.html\n",
      "  from .autonotebook import tqdm as notebook_tqdm\n"
     ]
    }
   ],
   "source": [
    "import os\n",
    "import torch\n",
    "from torch import nn\n",
    "from torch.utils.data import DataLoader\n",
    "\n",
    "import torchtext #conda install torchtext -c pytorch\n",
    "from torchtext.data import get_tokenizer\n",
    "\n",
    "from torch.nn.utils.rnn import pack_padded_sequence, pad_packed_sequence, pad_sequence\n",
    "\n",
    "import numpy as np "
   ]
  },
  {
   "cell_type": "code",
   "execution_count": 2,
   "id": "56745ac1",
   "metadata": {},
   "outputs": [],
   "source": [
    "SEED = 10\n",
    "np.random.seed(SEED) \n",
    "torch.manual_seed(SEED)\n",
    "torch.cuda.manual_seed(SEED)\n",
    "torch.backends.cudnn.deterministic = True  # cuda algorithms\n",
    "os.environ['PYTHONHASHSEED'] = str(SEED)"
   ]
  },
  {
   "cell_type": "markdown",
   "id": "5958cc97",
   "metadata": {},
   "source": [
    "## Text Classification"
   ]
  },
  {
   "cell_type": "code",
   "execution_count": 3,
   "id": "cb9733c1",
   "metadata": {},
   "outputs": [
    {
     "name": "stdout",
     "output_type": "stream",
     "text": [
      "29593\n"
     ]
    }
   ],
   "source": [
    "tokenizer = get_tokenizer('basic_english')\n",
    "\n",
    "words = set()\n",
    "\n",
    "ct = 0\n",
    "with open('/nfs/nas-4.1/azyen/w2v_project/c_test_1_stars.txt', encoding='utf-8',  errors='ignore') as f:\n",
    "    for l in f:\n",
    "        if ct == 10000:\n",
    "            break\n",
    "        sent_arr = set(tokenizer(l.split('\\t')[1]))\n",
    "        words = words | sent_arr\n",
    "        ct += 1\n",
    "\n",
    "words = [\"\", \"UNK\"] + list(words)\n",
    "print(len(words))"
   ]
  },
  {
   "cell_type": "code",
   "execution_count": 4,
   "id": "ea9e9e51",
   "metadata": {},
   "outputs": [],
   "source": [
    "#creating vocabulary\n",
    "\n",
    "vocab2index = {k: v for v, k in enumerate(words)}\n",
    "vocab_size = len(words)"
   ]
  },
  {
   "cell_type": "code",
   "execution_count": 5,
   "id": "4649abbc",
   "metadata": {},
   "outputs": [],
   "source": [
    "# set up token indice in each sentence\n",
    "def encode_sentence(tokenized_sent, vocab2index, N=500):\n",
    "    encoded = np.zeros(N, dtype=int)\n",
    "    enc1 = np.array([vocab2index.get(word, vocab2index[\"UNK\"]) for word in tokenized_sent])\n",
    "    length = min(N, len(enc1))\n",
    "    encoded[:length] = enc1[:length]\n",
    "    return encoded"
   ]
  },
  {
   "cell_type": "code",
   "execution_count": 6,
   "id": "9f255fd1",
   "metadata": {},
   "outputs": [],
   "source": [
    "num_labels = 3\n",
    "\n",
    "\n",
    "def categorize(star):\n",
    "    if star > 3:\n",
    "        y = 2 # positive\n",
    "    elif star < 3:\n",
    "        y = 0 # negative\n",
    "    else:\n",
    "        y = 1 # neutral\n",
    "    #print(star, label)\n",
    "    return y\n",
    "\n",
    "target_classes = [\"negative\", \"neutral\", \"positive\"]\n",
    "\n",
    "X, Y = [], []\n",
    "ct = 0\n",
    "with open('/nfs/nas-4.1/azyen/w2v_project/c_test_1_stars.txt', encoding='utf-8',  errors='ignore') as f:\n",
    "    for l in f:\n",
    "        if ct == 10000:\n",
    "            break\n",
    "        star, tokenized_review = float(l.split('\\t')[0]), tokenizer(l.split('\\t')[1])\n",
    "        x, y = encode_sentence(tokenized_review, vocab2index), categorize(star)\n",
    "        x_tensor = torch.from_numpy(x)\n",
    "        X.append(x_tensor)\n",
    "        Y.append(y)\n",
    "        ct += 1\n",
    "        \n",
    "\n",
    "X = torch.stack(X)\n",
    "Y = torch.LongTensor(Y)"
   ]
  },
  {
   "cell_type": "code",
   "execution_count": 7,
   "id": "d3e159c0",
   "metadata": {},
   "outputs": [
    {
     "data": {
      "text/plain": [
       "'beds-'"
      ]
     },
     "execution_count": 7,
     "metadata": {},
     "output_type": "execute_result"
    }
   ],
   "source": [
    "words[4707]"
   ]
  },
  {
   "cell_type": "code",
   "execution_count": 8,
   "id": "0a629a6f",
   "metadata": {},
   "outputs": [
    {
     "name": "stdout",
     "output_type": "stream",
     "text": [
      "['swiss', 'experience', 'in', 'nyc', 'great', 'stay', 'in', 'nyc', 'thanks', 'to', 'blue', 'moon', 'hotel', 'with', 'its', 'very', 'friendly', 'staff', '.', 'fine', 'rooms', ',', 'very', 'quiet', '.', 'excellent', 'location', 'in', 'downtown', '.', 'highly', 'recommandable']\n",
      "[14069  3530  3062  9449 26902 24043  3062  9449  8398 16353 17504 14215\n",
      " 26066  7080  4683 11213 17815 26265 15875 18616  1805    14 11213 21318\n",
      " 15875  6700  7902  3062  7280 15875  4052 27743     0     0     0     0\n",
      "     0     0     0     0     0     0     0     0     0     0     0     0\n",
      "     0     0     0     0     0     0     0     0     0     0     0     0\n",
      "     0     0     0     0     0     0     0     0     0     0     0     0\n",
      "     0     0     0     0     0     0     0     0     0     0     0     0\n",
      "     0     0     0     0     0     0     0     0     0     0     0     0\n",
      "     0     0     0     0     0     0     0     0     0     0     0     0\n",
      "     0     0     0     0     0     0     0     0     0     0     0     0\n",
      "     0     0     0     0     0     0     0     0     0     0     0     0\n",
      "     0     0     0     0     0     0     0     0     0     0     0     0\n",
      "     0     0     0     0     0     0     0     0     0     0     0     0\n",
      "     0     0     0     0     0     0     0     0     0     0     0     0\n",
      "     0     0     0     0     0     0     0     0     0     0     0     0\n",
      "     0     0     0     0     0     0     0     0     0     0     0     0\n",
      "     0     0     0     0     0     0     0     0     0     0     0     0\n",
      "     0     0     0     0     0     0     0     0     0     0     0     0\n",
      "     0     0     0     0     0     0     0     0     0     0     0     0\n",
      "     0     0     0     0     0     0     0     0     0     0     0     0\n",
      "     0     0     0     0     0     0     0     0     0     0     0     0\n",
      "     0     0     0     0     0     0     0     0     0     0     0     0\n",
      "     0     0     0     0     0     0     0     0     0     0     0     0\n",
      "     0     0     0     0     0     0     0     0     0     0     0     0\n",
      "     0     0     0     0     0     0     0     0     0     0     0     0\n",
      "     0     0     0     0     0     0     0     0     0     0     0     0\n",
      "     0     0     0     0     0     0     0     0     0     0     0     0\n",
      "     0     0     0     0     0     0     0     0     0     0     0     0\n",
      "     0     0     0     0     0     0     0     0     0     0     0     0\n",
      "     0     0     0     0     0     0     0     0     0     0     0     0\n",
      "     0     0     0     0     0     0     0     0     0     0     0     0\n",
      "     0     0     0     0     0     0     0     0     0     0     0     0\n",
      "     0     0     0     0     0     0     0     0     0     0     0     0\n",
      "     0     0     0     0     0     0     0     0     0     0     0     0\n",
      "     0     0     0     0     0     0     0     0     0     0     0     0\n",
      "     0     0     0     0     0     0     0     0     0     0     0     0\n",
      "     0     0     0     0     0     0     0     0     0     0     0     0\n",
      "     0     0     0     0     0     0     0     0     0     0     0     0\n",
      "     0     0     0     0     0     0     0     0     0     0     0     0\n",
      "     0     0     0     0     0     0     0     0     0     0     0     0\n",
      "     0     0     0     0     0     0     0     0     0     0     0     0\n",
      "     0     0     0     0     0     0     0     0]\n"
     ]
    }
   ],
   "source": [
    "with open('/nfs/nas-4.1/azyen/w2v_project/c_test_1_stars.txt', encoding='utf-8',  errors='ignore') as f:\n",
    "    for l in f:\n",
    "        star, tokenized_review = float(l.split('\\t')[0]), tokenizer(l.split('\\t')[1])\n",
    "        print(tokenized_review)\n",
    "        x = encode_sentence(tokenized_review, vocab2index)\n",
    "        print(x)\n",
    "        break"
   ]
  },
  {
   "cell_type": "code",
   "execution_count": 9,
   "id": "e78f95a1",
   "metadata": {},
   "outputs": [
    {
     "data": {
      "text/plain": [
       "tensor([[14069,  3530,  3062,  ...,     0,     0,     0],\n",
       "        [27151, 26066,    14,  ...,     0,     0,     0],\n",
       "        [16037, 28067, 21314,  ...,     0,     0,     0],\n",
       "        ...,\n",
       "        [27975,  5962,  1701,  ...,     0,     0,     0],\n",
       "        [22326, 29151, 11757,  ...,     0,     0,     0],\n",
       "        [16037, 11730,  3062,  ...,     0,     0,     0]])"
      ]
     },
     "execution_count": 9,
     "metadata": {},
     "output_type": "execute_result"
    }
   ],
   "source": [
    "X"
   ]
  },
  {
   "cell_type": "code",
   "execution_count": 10,
   "id": "45a4af3d",
   "metadata": {},
   "outputs": [],
   "source": [
    "from torch.utils.data import Dataset, DataLoader\n",
    "\n",
    "class MyDataset(Dataset):\n",
    "    def __init__(self, data, label):\n",
    "        self.data = data\n",
    "        self.label = label\n",
    "\n",
    "    def __getitem__(self,index):\n",
    "        seq_lens = np.count_nonzero(self.data[index])\n",
    "        return self.data[index], self.label[index], seq_lens\n",
    "\n",
    "    def __len__(self):\n",
    "        return len(self.data)"
   ]
  },
  {
   "cell_type": "code",
   "execution_count": 11,
   "id": "89319ce6",
   "metadata": {},
   "outputs": [],
   "source": [
    "from torch.utils.data import DataLoader, RandomSampler, SequentialSampler\n",
    "\n",
    "\n",
    "train_data = MyDataset(X[:8000], Y[:8000])\n",
    "valid_data = MyDataset(X[8000:9000], Y[8000:9000])\n",
    "test_data = MyDataset(X[9000:], Y[9000:])\n",
    "\n",
    "train_sampler = RandomSampler(train_data)\n",
    "valid_sampler = SequentialSampler(valid_data)\n",
    "test_sampler = SequentialSampler(test_data)\n",
    "\n",
    "\n",
    "train_loader = DataLoader(dataset=train_data, sampler=train_sampler, batch_size=64)\n",
    "valid_loader = DataLoader(dataset=test_data, sampler=valid_sampler, batch_size=64)\n",
    "test_loader = DataLoader(dataset=test_data, sampler=test_sampler, batch_size=64)"
   ]
  },
  {
   "cell_type": "code",
   "execution_count": 12,
   "id": "1402f6fc",
   "metadata": {},
   "outputs": [
    {
     "name": "stdout",
     "output_type": "stream",
     "text": [
      "0 tensor([[11730, 26770, 18461,  ...,     0,     0,     0],\n",
      "        [19746, 11526,    14,  ...,     0,     0,     0],\n",
      "        [28600,  8174, 19746,  ...,     0,     0,     0],\n",
      "        ...,\n",
      "        [24214, 27166, 15487,  ...,     0,     0,     0],\n",
      "        [12674, 24043, 13625,  ...,     0,     0,     0],\n",
      "        [16037, 14720, 11520,  ...,     0,     0,     0]]) tensor([1, 2, 2, 0, 2, 2, 2, 2, 2, 2, 1, 2, 2, 2, 2, 1, 2, 2, 2, 0, 2, 2, 2, 2,\n",
      "        1, 1, 2, 2, 2, 2, 2, 2, 2, 2, 0, 2, 2, 2, 2, 1, 0, 0, 2, 1, 2, 2, 0, 2,\n",
      "        2, 2, 0, 2, 2, 2, 1, 2, 2, 2, 2, 0, 2, 2, 2, 2]) tensor([118,  39, 421, 500,  71, 310,  39, 208, 146, 141,  67,  43, 235, 216,\n",
      "        117, 283, 166,  86,  96,  74,  34, 299, 119, 109,  60, 140, 179, 149,\n",
      "        260, 326,  78,  43,  12, 166, 166, 187,  77,  84,  42,  61, 108,  84,\n",
      "        280,  53, 280, 180,  84,  31,  89,  68, 147,  38, 306, 192,  98, 196,\n",
      "        215, 102,  53, 180, 181,  89, 115,  83])\n"
     ]
    }
   ],
   "source": [
    "for i, (data, label, l) in enumerate(train_loader):\n",
    "    print(i, data, label, l)\n",
    "    break"
   ]
  },
  {
   "cell_type": "code",
   "execution_count": 13,
   "id": "837d3228",
   "metadata": {},
   "outputs": [
    {
     "name": "stdout",
     "output_type": "stream",
     "text": [
      "Using cuda device\n"
     ]
    }
   ],
   "source": [
    "device = \"cuda\" if torch.cuda.is_available() else \"cpu\"\n",
    "print(f\"Using {device} device\")\n",
    "\n",
    "class one_hot_LSTM(nn.Module) :\n",
    "    def __init__(self, vocab_size, embedding_dim, hidden_dim) :\n",
    "        super().__init__()\n",
    "        self.hidden_dim = hidden_dim\n",
    "        self.embeddings = nn.Embedding(vocab_size, embedding_dim, padding_idx=0)\n",
    "        self.lstm = nn.LSTM(input_size=embedding_dim, hidden_size=hidden_dim, batch_first=True)\n",
    "        self.relu = nn.ReLU()\n",
    "        self.fc1 = nn.Linear(in_features=hidden_dim, out_features=hidden_dim)\n",
    "        self.dropout = nn.Dropout(0.3)\n",
    "        self.linear = nn.Linear(hidden_dim, 3)\n",
    "        \n",
    "    def forward(self, x, s):\n",
    "        x = self.embeddings(x)\n",
    "        #x = self.dropout(x)\n",
    "        x_pack = pack_padded_sequence(x, s.to('cpu'), batch_first=True, enforce_sorted=False)\n",
    "        pack_out, (ht, ct) = self.lstm(x_pack)\n",
    "        out = self.dropout(ht[-1])\n",
    "        out = self.fc1(out)\n",
    "        out = self.relu(out)\n",
    "        out = self.dropout(out)\n",
    "        out = self.linear(out)\n",
    "        return out"
   ]
  },
  {
   "cell_type": "code",
   "execution_count": 14,
   "id": "227f4773",
   "metadata": {},
   "outputs": [],
   "source": [
    "model = one_hot_LSTM(vocab_size, 100, 128).to(device) # move it to the GPU"
   ]
  },
  {
   "cell_type": "code",
   "execution_count": 15,
   "id": "23d16a51",
   "metadata": {},
   "outputs": [],
   "source": [
    "def train(dataloader, model, loss_fn, optimizer):\n",
    "    size = len(dataloader.dataset)\n",
    "    model.train()\n",
    "    for batch, (X, y, seq_len) in enumerate(dataloader):\n",
    "        X, y = X.to(device), y.to(device)\n",
    "\n",
    "        # Compute prediction error\n",
    "        pred = model(X, seq_len)\n",
    "        loss = loss_fn(pred, y)\n",
    "\n",
    "        # Backpropagation\n",
    "        optimizer.zero_grad()\n",
    "        loss.backward()\n",
    "        optimizer.step()\n",
    "\n",
    "        if batch % 100 == 0:\n",
    "            loss, current = loss.item(), batch * len(X)\n",
    "            print(f\"loss: {loss:>7f}  [{current:>5d}/{size:>5d}]\")"
   ]
  },
  {
   "cell_type": "code",
   "execution_count": 16,
   "id": "88ef0535",
   "metadata": {},
   "outputs": [],
   "source": [
    "def test(dataloader, model, loss_fn):\n",
    "    size = len(dataloader.dataset)\n",
    "    num_batches = len(dataloader)\n",
    "    model.eval()\n",
    "    test_loss, correct = 0, 0\n",
    "    with torch.no_grad():\n",
    "        for X, y, seq_len in dataloader:\n",
    "            X, y = X.to(device), y.to(device)\n",
    "            pred = model(X, seq_len)\n",
    "            #print(X.shape, seq_len.shape)\n",
    "            test_loss += loss_fn(pred, y).item()\n",
    "            correct += (pred.argmax(1) == y).type(torch.float).sum().item()\n",
    "    test_loss /= num_batches\n",
    "    correct /= size\n",
    "    print(f\"Test Error: \\n Accuracy: {(100*correct):>0.1f}%, Avg loss: {test_loss:>8f} \\n\")"
   ]
  },
  {
   "cell_type": "code",
   "execution_count": 17,
   "id": "5e67cf26",
   "metadata": {},
   "outputs": [],
   "source": [
    "loss_fn = nn.CrossEntropyLoss()\n",
    "optimizer = torch.optim.Adam(model.parameters(), lr=1e-3)"
   ]
  },
  {
   "cell_type": "code",
   "execution_count": 18,
   "id": "66351f21",
   "metadata": {},
   "outputs": [
    {
     "name": "stdout",
     "output_type": "stream",
     "text": [
      "Epoch 1\n",
      "-------------------------------\n",
      "loss: 1.063174  [    0/ 8000]\n",
      "loss: 0.758304  [ 6400/ 8000]\n",
      "Test Error: \n",
      " Accuracy: 66.6%, Avg loss: 0.785831 \n",
      "\n",
      "Epoch 2\n",
      "-------------------------------\n",
      "loss: 0.659258  [    0/ 8000]\n",
      "loss: 0.509790  [ 6400/ 8000]\n",
      "Test Error: \n",
      " Accuracy: 68.7%, Avg loss: 0.716768 \n",
      "\n",
      "Epoch 3\n",
      "-------------------------------\n",
      "loss: 0.403753  [    0/ 8000]\n",
      "loss: 0.515171  [ 6400/ 8000]\n",
      "Test Error: \n",
      " Accuracy: 71.6%, Avg loss: 0.653244 \n",
      "\n",
      "Epoch 4\n",
      "-------------------------------\n",
      "loss: 0.418606  [    0/ 8000]\n",
      "loss: 0.314757  [ 6400/ 8000]\n",
      "Test Error: \n",
      " Accuracy: 73.2%, Avg loss: 0.668633 \n",
      "\n",
      "Epoch 5\n",
      "-------------------------------\n",
      "loss: 0.364953  [    0/ 8000]\n",
      "loss: 0.376593  [ 6400/ 8000]\n",
      "Test Error: \n",
      " Accuracy: 72.2%, Avg loss: 0.706388 \n",
      "\n",
      "Epoch 6\n",
      "-------------------------------\n",
      "loss: 0.464545  [    0/ 8000]\n",
      "loss: 0.562652  [ 6400/ 8000]\n",
      "Test Error: \n",
      " Accuracy: 74.4%, Avg loss: 0.639101 \n",
      "\n",
      "Epoch 7\n",
      "-------------------------------\n",
      "loss: 0.346311  [    0/ 8000]\n",
      "loss: 0.225122  [ 6400/ 8000]\n",
      "Test Error: \n",
      " Accuracy: 76.7%, Avg loss: 0.715796 \n",
      "\n",
      "Epoch 8\n",
      "-------------------------------\n",
      "loss: 0.236052  [    0/ 8000]\n",
      "loss: 0.247010  [ 6400/ 8000]\n",
      "Test Error: \n",
      " Accuracy: 74.8%, Avg loss: 0.727817 \n",
      "\n",
      "Epoch 9\n",
      "-------------------------------\n",
      "loss: 0.267731  [    0/ 8000]\n",
      "loss: 0.126011  [ 6400/ 8000]\n",
      "Test Error: \n",
      " Accuracy: 73.6%, Avg loss: 0.727906 \n",
      "\n",
      "Epoch 10\n",
      "-------------------------------\n",
      "loss: 0.192352  [    0/ 8000]\n",
      "loss: 0.100632  [ 6400/ 8000]\n",
      "Test Error: \n",
      " Accuracy: 75.8%, Avg loss: 0.754300 \n",
      "\n",
      "Done!\n"
     ]
    }
   ],
   "source": [
    "epochs = 10\n",
    "for t in range(epochs):\n",
    "    print(f\"Epoch {t+1}\\n-------------------------------\")\n",
    "    train(train_loader, model, loss_fn, optimizer)\n",
    "    test(valid_loader, model, loss_fn)\n",
    "print(\"Done!\")"
   ]
  },
  {
   "cell_type": "code",
   "execution_count": 19,
   "id": "ff2cf310",
   "metadata": {},
   "outputs": [],
   "source": [
    "model.eval()\n",
    "\n",
    "y_pred, y_true = [], []\n",
    "\n",
    "with torch.no_grad(): # https://pytorch.org/docs/stable/generated/torch.no_grad.html\n",
    "    for X, y, seq_len in test_loader:\n",
    "        X, y = X.to(device), y.to(device)\n",
    "        preds = model(X, seq_len)\n",
    "        for i, pred in enumerate(preds):\n",
    "            predicted, actual = target_classes[pred.argmax(0)], target_classes[y[i]]\n",
    "            #print(f'Predicted: \"{predicted}\", Actual: \"{actual}\"')\n",
    "            y_pred.append(predicted); y_true.append(actual)"
   ]
  },
  {
   "cell_type": "code",
   "execution_count": 20,
   "id": "4e1d894d",
   "metadata": {},
   "outputs": [
    {
     "data": {
      "text/plain": [
       "0.758"
      ]
     },
     "execution_count": 20,
     "metadata": {},
     "output_type": "execute_result"
    }
   ],
   "source": [
    "from sklearn.metrics import accuracy_score\n",
    "\n",
    "accuracy_score(y_true, y_pred)"
   ]
  },
  {
   "cell_type": "markdown",
   "id": "c3c4d572",
   "metadata": {},
   "source": [
    "## LSTM with pretrained Glove word embeddings"
   ]
  },
  {
   "cell_type": "code",
   "execution_count": 21,
   "id": "82e9cec2",
   "metadata": {},
   "outputs": [],
   "source": [
    "def load_glove_vectors(glove_file=\"/nfs/nas-6.1/azyen/backup/Data/glove.6B.50d.txt\"):\n",
    "    \"\"\"Load the glove word vectors\"\"\"\n",
    "    word_vectors = {}\n",
    "    with open(glove_file) as f:\n",
    "        for line in f:\n",
    "            split = line.split()\n",
    "            word_vectors[split[0]] = np.array([float(x) for x in split[1:]])\n",
    "    return word_vectors"
   ]
  },
  {
   "cell_type": "code",
   "execution_count": 22,
   "id": "7b5845a2",
   "metadata": {},
   "outputs": [],
   "source": [
    "def get_emb_matrix(pretrained, words, emb_size = 50):\n",
    "    \"\"\" Creates embedding matrix from word vectors\"\"\"\n",
    "    W = np.zeros((len(words), emb_size), dtype=\"float32\")\n",
    "    W[0] = np.zeros(emb_size, dtype='float32') # adding a vector for padding\n",
    "    W[1] = np.random.uniform(-0.25, 0.25, emb_size) # adding a vector for unknown words \n",
    "    i = 2\n",
    "    for word in words[2:]:\n",
    "        if word in word_vecs:\n",
    "            W[i] = word_vecs[word]\n",
    "        else:\n",
    "            W[i] = np.random.uniform(-0.25,0.25, emb_size)\n",
    "        i += 1\n",
    "    return W"
   ]
  },
  {
   "cell_type": "code",
   "execution_count": 23,
   "id": "35d479cb",
   "metadata": {},
   "outputs": [],
   "source": [
    "word_vecs = load_glove_vectors()\n",
    "pretrained_weights = get_emb_matrix(word_vecs, words)"
   ]
  },
  {
   "cell_type": "code",
   "execution_count": 24,
   "id": "8b2ba45d",
   "metadata": {},
   "outputs": [
    {
     "name": "stdout",
     "output_type": "stream",
     "text": [
      "Using cuda device\n"
     ]
    }
   ],
   "source": [
    "device = \"cuda\" if torch.cuda.is_available() else \"cpu\"\n",
    "print(f\"Using {device} device\")\n",
    "\n",
    "class pretrain_weight_LSTM(nn.Module) :\n",
    "    def __init__(self, vocab_size, embedding_dim, hidden_dim, pretrained_weights, bidirectional) :\n",
    "        super().__init__()\n",
    "        self.hidden_dim = hidden_dim\n",
    "        self.embeddings = nn.Embedding(vocab_size, embedding_dim, padding_idx=0)\n",
    "        self.embeddings.weight.data.copy_(torch.from_numpy(pretrained_weights))\n",
    "        self.embeddings.weight.requires_grad = True ## freeze embeddings\n",
    "        self.lstm = nn.LSTM(embedding_dim,\n",
    "                            hidden_dim,\n",
    "                            num_layers = 1,\n",
    "                            bidirectional = bidirectional,\n",
    "                            dropout = 0.1,\n",
    "                            batch_first = True\n",
    "                           )\n",
    "        self.relu = nn.ReLU()\n",
    "        self.fc1 = nn.Linear(in_features=hidden_dim, out_features=hidden_dim)\n",
    "        self.dropout = nn.Dropout(0.3)\n",
    "        self.linear = nn.Linear(hidden_dim, 3)\n",
    "        \n",
    "    def forward(self, x, s):\n",
    "        embedded = self.embeddings(x)\n",
    "        x_pack = pack_padded_sequence(embedded, s.to('cpu'), batch_first=True, enforce_sorted=False)\n",
    "        pack_out, (ht, ct) = self.lstm(x_pack)\n",
    "        out = self.dropout(ht[-1])\n",
    "        out = self.fc1(out)\n",
    "        out = self.relu(out)\n",
    "        out = self.dropout(out)\n",
    "        out = self.linear(out)\n",
    "        return out"
   ]
  },
  {
   "cell_type": "code",
   "execution_count": 25,
   "id": "8782941a",
   "metadata": {},
   "outputs": [
    {
     "name": "stderr",
     "output_type": "stream",
     "text": [
      "/home/azyen/anaconda3/envs/litorch/lib/python3.8/site-packages/torch/nn/modules/rnn.py:62: UserWarning: dropout option adds dropout after all but last recurrent layer, so non-zero dropout expects num_layers greater than 1, but got dropout=0.1 and num_layers=1\n",
      "  warnings.warn(\"dropout option adds dropout after all but last \"\n"
     ]
    }
   ],
   "source": [
    "bidirectional = False\n",
    "model2 = pretrain_weight_LSTM(vocab_size, 50, 128, pretrained_weights, bidirectional).to(device) # move it to the GPU"
   ]
  },
  {
   "cell_type": "code",
   "execution_count": 26,
   "id": "2fedafa2",
   "metadata": {},
   "outputs": [],
   "source": [
    "loss_fn = nn.CrossEntropyLoss()\n",
    "optimizer = torch.optim.Adam(model2.parameters(), lr=1e-3)"
   ]
  },
  {
   "cell_type": "code",
   "execution_count": 27,
   "id": "68134eca",
   "metadata": {},
   "outputs": [
    {
     "name": "stdout",
     "output_type": "stream",
     "text": [
      "Epoch 1\n",
      "-------------------------------\n",
      "loss: 1.103427  [    0/ 8000]\n",
      "loss: 0.731244  [ 6400/ 8000]\n",
      "Test Error: \n",
      " Accuracy: 66.6%, Avg loss: 0.777358 \n",
      "\n",
      "Epoch 2\n",
      "-------------------------------\n",
      "loss: 0.754345  [    0/ 8000]\n",
      "loss: 0.578984  [ 6400/ 8000]\n",
      "Test Error: \n",
      " Accuracy: 74.7%, Avg loss: 0.682352 \n",
      "\n",
      "Epoch 3\n",
      "-------------------------------\n",
      "loss: 0.506921  [    0/ 8000]\n",
      "loss: 0.524786  [ 6400/ 8000]\n",
      "Test Error: \n",
      " Accuracy: 75.1%, Avg loss: 0.830594 \n",
      "\n",
      "Epoch 4\n",
      "-------------------------------\n",
      "loss: 0.599978  [    0/ 8000]\n",
      "loss: 0.514930  [ 6400/ 8000]\n",
      "Test Error: \n",
      " Accuracy: 76.8%, Avg loss: 0.660836 \n",
      "\n",
      "Epoch 5\n",
      "-------------------------------\n",
      "loss: 0.356123  [    0/ 8000]\n",
      "loss: 0.424640  [ 6400/ 8000]\n",
      "Test Error: \n",
      " Accuracy: 76.3%, Avg loss: 0.595983 \n",
      "\n",
      "Epoch 6\n",
      "-------------------------------\n",
      "loss: 0.288305  [    0/ 8000]\n",
      "loss: 0.321225  [ 6400/ 8000]\n",
      "Test Error: \n",
      " Accuracy: 72.2%, Avg loss: 0.665494 \n",
      "\n",
      "Epoch 7\n",
      "-------------------------------\n",
      "loss: 0.623051  [    0/ 8000]\n",
      "loss: 0.288191  [ 6400/ 8000]\n",
      "Test Error: \n",
      " Accuracy: 76.2%, Avg loss: 0.585292 \n",
      "\n",
      "Epoch 8\n",
      "-------------------------------\n",
      "loss: 0.314162  [    0/ 8000]\n",
      "loss: 0.193930  [ 6400/ 8000]\n",
      "Test Error: \n",
      " Accuracy: 76.0%, Avg loss: 0.588509 \n",
      "\n",
      "Epoch 9\n",
      "-------------------------------\n",
      "loss: 0.228180  [    0/ 8000]\n",
      "loss: 0.231554  [ 6400/ 8000]\n",
      "Test Error: \n",
      " Accuracy: 76.1%, Avg loss: 0.559959 \n",
      "\n",
      "Epoch 10\n",
      "-------------------------------\n",
      "loss: 0.157243  [    0/ 8000]\n",
      "loss: 0.362686  [ 6400/ 8000]\n",
      "Test Error: \n",
      " Accuracy: 79.1%, Avg loss: 0.581144 \n",
      "\n",
      "Done!\n"
     ]
    }
   ],
   "source": [
    "epochs = 10\n",
    "for t in range(epochs):\n",
    "    print(f\"Epoch {t+1}\\n-------------------------------\")\n",
    "    train(train_loader, model2, loss_fn, optimizer)\n",
    "    test(valid_loader, model2, loss_fn)\n",
    "print(\"Done!\")"
   ]
  },
  {
   "cell_type": "code",
   "execution_count": 28,
   "id": "429098ad",
   "metadata": {},
   "outputs": [
    {
     "data": {
      "text/plain": [
       "pretrain_weight_LSTM(\n",
       "  (embeddings): Embedding(29593, 50, padding_idx=0)\n",
       "  (lstm): LSTM(50, 128, batch_first=True, dropout=0.1)\n",
       "  (relu): ReLU()\n",
       "  (fc1): Linear(in_features=128, out_features=128, bias=True)\n",
       "  (dropout): Dropout(p=0.3, inplace=False)\n",
       "  (linear): Linear(in_features=128, out_features=3, bias=True)\n",
       ")"
      ]
     },
     "execution_count": 28,
     "metadata": {},
     "output_type": "execute_result"
    }
   ],
   "source": [
    "model2"
   ]
  },
  {
   "cell_type": "code",
   "execution_count": 29,
   "id": "21a2e32c",
   "metadata": {},
   "outputs": [],
   "source": [
    "model.eval()\n",
    "\n",
    "y_pred, y_true = [], []\n",
    "\n",
    "with torch.no_grad(): # https://pytorch.org/docs/stable/generated/torch.no_grad.html\n",
    "    for X, y, seq_len in test_loader:\n",
    "        X, y = X.to(device), y.to(device)\n",
    "        preds = model2(X, seq_len)\n",
    "        for i, pred in enumerate(preds):\n",
    "            predicted, actual = target_classes[pred.argmax(0)], target_classes[y[i]]\n",
    "            #print(f'Predicted: \"{predicted}\", Actual: \"{actual}\"')\n",
    "            y_pred.append(predicted); y_true.append(actual)"
   ]
  },
  {
   "cell_type": "code",
   "execution_count": 30,
   "id": "e0c81518",
   "metadata": {},
   "outputs": [
    {
     "data": {
      "text/plain": [
       "0.791"
      ]
     },
     "execution_count": 30,
     "metadata": {},
     "output_type": "execute_result"
    }
   ],
   "source": [
    "from sklearn.metrics import accuracy_score\n",
    "\n",
    "accuracy_score(y_true, y_pred)"
   ]
  },
  {
   "cell_type": "markdown",
   "id": "9bbcb536",
   "metadata": {},
   "source": [
    "## bidirectional lstm"
   ]
  },
  {
   "cell_type": "code",
   "execution_count": 42,
   "id": "707c27a4",
   "metadata": {},
   "outputs": [
    {
     "name": "stderr",
     "output_type": "stream",
     "text": [
      "/home/azyen/anaconda3/envs/litorch/lib/python3.8/site-packages/torch/nn/modules/rnn.py:62: UserWarning: dropout option adds dropout after all but last recurrent layer, so non-zero dropout expects num_layers greater than 1, but got dropout=0.1 and num_layers=1\n",
      "  warnings.warn(\"dropout option adds dropout after all but last \"\n"
     ]
    }
   ],
   "source": [
    "bidirectional = True\n",
    "model3 = pretrain_weight_LSTM(vocab_size, 50, 128, pretrained_weights, bidirectional).to(device) # move it to the GPU"
   ]
  },
  {
   "cell_type": "code",
   "execution_count": 43,
   "id": "e42604c0",
   "metadata": {},
   "outputs": [
    {
     "data": {
      "text/plain": [
       "pretrain_weight_LSTM(\n",
       "  (embeddings): Embedding(29593, 50, padding_idx=0)\n",
       "  (lstm): LSTM(50, 128, batch_first=True, dropout=0.1, bidirectional=True)\n",
       "  (relu): ReLU()\n",
       "  (fc1): Linear(in_features=128, out_features=128, bias=True)\n",
       "  (dropout): Dropout(p=0.3, inplace=False)\n",
       "  (linear): Linear(in_features=128, out_features=3, bias=True)\n",
       ")"
      ]
     },
     "execution_count": 43,
     "metadata": {},
     "output_type": "execute_result"
    }
   ],
   "source": [
    "model3"
   ]
  },
  {
   "cell_type": "code",
   "execution_count": 44,
   "id": "f9b938df",
   "metadata": {},
   "outputs": [],
   "source": [
    "loss_fn = nn.CrossEntropyLoss()\n",
    "optimizer = torch.optim.Adam(model3.parameters(), lr=1e-3)"
   ]
  },
  {
   "cell_type": "code",
   "execution_count": 45,
   "id": "421c730d",
   "metadata": {},
   "outputs": [
    {
     "name": "stdout",
     "output_type": "stream",
     "text": [
      "Epoch 1\n",
      "-------------------------------\n",
      "loss: 1.089162  [    0/ 8000]\n",
      "loss: 0.589003  [ 6400/ 8000]\n",
      "Test Error: \n",
      " Accuracy: 67.5%, Avg loss: 1.078874 \n",
      "\n",
      "Epoch 2\n",
      "-------------------------------\n",
      "loss: 0.803792  [    0/ 8000]\n",
      "loss: 0.704882  [ 6400/ 8000]\n",
      "Test Error: \n",
      " Accuracy: 66.6%, Avg loss: 0.889824 \n",
      "\n",
      "Epoch 3\n",
      "-------------------------------\n",
      "loss: 0.730953  [    0/ 8000]\n",
      "loss: 0.494237  [ 6400/ 8000]\n",
      "Test Error: \n",
      " Accuracy: 66.6%, Avg loss: 0.708158 \n",
      "\n",
      "Epoch 4\n",
      "-------------------------------\n",
      "loss: 0.526666  [    0/ 8000]\n",
      "loss: 0.855531  [ 6400/ 8000]\n",
      "Test Error: \n",
      " Accuracy: 74.6%, Avg loss: 0.653518 \n",
      "\n",
      "Epoch 5\n",
      "-------------------------------\n",
      "loss: 0.474813  [    0/ 8000]\n",
      "loss: 0.379566  [ 6400/ 8000]\n",
      "Test Error: \n",
      " Accuracy: 70.8%, Avg loss: 0.696465 \n",
      "\n",
      "Epoch 6\n",
      "-------------------------------\n",
      "loss: 0.664392  [    0/ 8000]\n",
      "loss: 0.467682  [ 6400/ 8000]\n",
      "Test Error: \n",
      " Accuracy: 75.3%, Avg loss: 0.640534 \n",
      "\n",
      "Epoch 7\n",
      "-------------------------------\n",
      "loss: 0.562328  [    0/ 8000]\n",
      "loss: 0.304531  [ 6400/ 8000]\n",
      "Test Error: \n",
      " Accuracy: 72.5%, Avg loss: 0.727351 \n",
      "\n",
      "Epoch 8\n",
      "-------------------------------\n",
      "loss: 0.610000  [    0/ 8000]\n",
      "loss: 0.251792  [ 6400/ 8000]\n",
      "Test Error: \n",
      " Accuracy: 78.1%, Avg loss: 0.582932 \n",
      "\n",
      "Epoch 9\n",
      "-------------------------------\n",
      "loss: 0.439749  [    0/ 8000]\n",
      "loss: 0.190220  [ 6400/ 8000]\n",
      "Test Error: \n",
      " Accuracy: 76.3%, Avg loss: 0.579535 \n",
      "\n",
      "Epoch 10\n",
      "-------------------------------\n",
      "loss: 0.410360  [    0/ 8000]\n",
      "loss: 0.634007  [ 6400/ 8000]\n",
      "Test Error: \n",
      " Accuracy: 79.2%, Avg loss: 0.538166 \n",
      "\n",
      "Done!\n"
     ]
    }
   ],
   "source": [
    "epochs = 10\n",
    "for t in range(epochs):\n",
    "    print(f\"Epoch {t+1}\\n-------------------------------\")\n",
    "    train(train_loader, model3, loss_fn, optimizer)\n",
    "    test(valid_loader, model3, loss_fn)\n",
    "print(\"Done!\")"
   ]
  },
  {
   "cell_type": "code",
   "execution_count": 46,
   "id": "d196e5b6",
   "metadata": {},
   "outputs": [],
   "source": [
    "model.eval()\n",
    "\n",
    "y_pred, y_true = [], []\n",
    "\n",
    "with torch.no_grad(): # https://pytorch.org/docs/stable/generated/torch.no_grad.html\n",
    "    for X, y, seq_len in test_loader:\n",
    "        X, y = X.to(device), y.to(device)\n",
    "        preds = model3(X, seq_len)\n",
    "        for i, pred in enumerate(preds):\n",
    "            predicted, actual = target_classes[pred.argmax(0)], target_classes[y[i]]\n",
    "            #print(f'Predicted: \"{predicted}\", Actual: \"{actual}\"')\n",
    "            y_pred.append(predicted); y_true.append(actual)"
   ]
  },
  {
   "cell_type": "code",
   "execution_count": 47,
   "id": "6417c639",
   "metadata": {},
   "outputs": [
    {
     "data": {
      "text/plain": [
       "0.792"
      ]
     },
     "execution_count": 47,
     "metadata": {},
     "output_type": "execute_result"
    }
   ],
   "source": [
    "accuracy_score(y_true, y_pred)"
   ]
  }
 ],
 "metadata": {
  "kernelspec": {
   "display_name": "Python 3",
   "language": "python",
   "name": "python3"
  },
  "language_info": {
   "codemirror_mode": {
    "name": "ipython",
    "version": 3
   },
   "file_extension": ".py",
   "mimetype": "text/x-python",
   "name": "python",
   "nbconvert_exporter": "python",
   "pygments_lexer": "ipython3",
   "version": "3.8.8"
  }
 },
 "nbformat": 4,
 "nbformat_minor": 5
}
