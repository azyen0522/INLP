{
 "cells": [
  {
   "cell_type": "code",
   "execution_count": 1,
   "id": "1afdf6e5",
   "metadata": {},
   "outputs": [
    {
     "name": "stdout",
     "output_type": "stream",
     "text": [
      "Requirement already satisfied: transformers in /home/azyen/anaconda3/envs/torch1.8/lib/python3.8/site-packages (4.6.1)\n",
      "Requirement already satisfied: numpy>=1.17 in /home/azyen/anaconda3/envs/torch1.8/lib/python3.8/site-packages (from transformers) (1.21.0)\n",
      "Requirement already satisfied: packaging in /home/azyen/anaconda3/envs/torch1.8/lib/python3.8/site-packages (from transformers) (21.0)\n",
      "Requirement already satisfied: regex!=2019.12.17 in /home/azyen/anaconda3/envs/torch1.8/lib/python3.8/site-packages (from transformers) (2021.7.6)\n",
      "Requirement already satisfied: requests in /home/azyen/anaconda3/envs/torch1.8/lib/python3.8/site-packages (from transformers) (2.26.0)\n",
      "Requirement already satisfied: sacremoses in /home/azyen/anaconda3/envs/torch1.8/lib/python3.8/site-packages (from transformers) (0.0.45)\n",
      "Requirement already satisfied: filelock in /home/azyen/anaconda3/envs/torch1.8/lib/python3.8/site-packages (from transformers) (3.0.12)\n",
      "Requirement already satisfied: huggingface-hub==0.0.8 in /home/azyen/anaconda3/envs/torch1.8/lib/python3.8/site-packages (from transformers) (0.0.8)\n",
      "Requirement already satisfied: tokenizers<0.11,>=0.10.1 in /home/azyen/anaconda3/envs/torch1.8/lib/python3.8/site-packages (from transformers) (0.10.3)\n",
      "Requirement already satisfied: tqdm>=4.27 in /home/azyen/anaconda3/envs/torch1.8/lib/python3.8/site-packages (from transformers) (4.61.2)\n",
      "Requirement already satisfied: pyparsing>=2.0.2 in /home/azyen/anaconda3/envs/torch1.8/lib/python3.8/site-packages (from packaging->transformers) (2.4.7)\n",
      "Requirement already satisfied: urllib3<1.27,>=1.21.1 in /home/azyen/anaconda3/envs/torch1.8/lib/python3.8/site-packages (from requests->transformers) (1.26.6)\n",
      "Requirement already satisfied: charset-normalizer~=2.0.0 in /home/azyen/anaconda3/envs/torch1.8/lib/python3.8/site-packages (from requests->transformers) (2.0.3)\n",
      "Requirement already satisfied: certifi>=2017.4.17 in /home/azyen/anaconda3/envs/torch1.8/lib/python3.8/site-packages (from requests->transformers) (2021.5.30)\n",
      "Requirement already satisfied: idna<4,>=2.5 in /home/azyen/anaconda3/envs/torch1.8/lib/python3.8/site-packages (from requests->transformers) (3.2)\n",
      "Requirement already satisfied: click in /home/azyen/anaconda3/envs/torch1.8/lib/python3.8/site-packages (from sacremoses->transformers) (7.1.2)\n",
      "Requirement already satisfied: six in /home/azyen/anaconda3/envs/torch1.8/lib/python3.8/site-packages (from sacremoses->transformers) (1.15.0)\n",
      "Requirement already satisfied: joblib in /home/azyen/anaconda3/envs/torch1.8/lib/python3.8/site-packages (from sacremoses->transformers) (1.0.1)\n"
     ]
    }
   ],
   "source": [
    "!pip3 install transformers"
   ]
  },
  {
   "cell_type": "code",
   "execution_count": 2,
   "id": "f99883cf",
   "metadata": {},
   "outputs": [
    {
     "name": "stdout",
     "output_type": "stream",
     "text": [
      "['Using', 'a', 'Trans', '##former', 'network', 'is', 'simple']\n"
     ]
    }
   ],
   "source": [
    "from transformers import AutoTokenizer\n",
    "\n",
    "tokenizer = AutoTokenizer.from_pretrained(\"bert-base-cased\")\n",
    "\n",
    "sequence = \"Using a Transformer network is simple\"\n",
    "tokens = tokenizer.tokenize(sequence)\n",
    "\n",
    "print(tokens)"
   ]
  },
  {
   "cell_type": "code",
   "execution_count": 3,
   "id": "e11a1947",
   "metadata": {},
   "outputs": [
    {
     "name": "stdout",
     "output_type": "stream",
     "text": [
      "['醒', '醒', '吧', '你', '沒', '有', '妹', '妹']\n"
     ]
    }
   ],
   "source": [
    "zhtokenizer = AutoTokenizer.from_pretrained(\"bert-base-chinese\")\n",
    "\n",
    "sequence = \"醒醒吧你沒有妹妹\"\n",
    "tokens = zhtokenizer.tokenize(sequence)\n",
    "\n",
    "print(tokens)"
   ]
  },
  {
   "cell_type": "code",
   "execution_count": 4,
   "id": "4422e5d4",
   "metadata": {},
   "outputs": [
    {
     "name": "stdout",
     "output_type": "stream",
     "text": [
      "[7008, 7008, 1416, 872, 3760, 3300, 1987, 1987]\n"
     ]
    }
   ],
   "source": [
    "ids = zhtokenizer.convert_tokens_to_ids(tokens)\n",
    "\n",
    "print(ids)"
   ]
  },
  {
   "cell_type": "code",
   "execution_count": 5,
   "id": "7eecb420",
   "metadata": {},
   "outputs": [
    {
     "name": "stdout",
     "output_type": "stream",
     "text": [
      "醒 醒 吧 你 沒 有 妹 妹\n"
     ]
    }
   ],
   "source": [
    "decoded_string = zhtokenizer.decode([7008, 7008, 1416, 872, 3760, 3300, 1987, 1987])\n",
    "print(decoded_string)"
   ]
  },
  {
   "cell_type": "code",
   "execution_count": 6,
   "id": "2e194034",
   "metadata": {},
   "outputs": [
    {
     "name": "stdout",
     "output_type": "stream",
     "text": [
      "sent: 醒醒吧你沒有妹妹🙃\n",
      "sent_token: ['[CLS]', '醒', '醒', '吧', '你', '沒', '有', '妹', '妹', '[UNK]', '[SEP]']\n",
      "encode: [101, 7008, 7008, 1416, 872, 3760, 3300, 1987, 1987, 100, 102]\n",
      "decode: ['[CLS]', '醒', '醒', '吧', '你', '沒', '有', '妹', '妹', '[UNK]', '[SEP]']\n"
     ]
    }
   ],
   "source": [
    "# coding: utf-8\n",
    "import torch\n",
    "from transformers import AutoTokenizer, AutoModel\n",
    "\n",
    "\n",
    "# Tokenizer and Bert Model\n",
    "tokenizer = AutoTokenizer.from_pretrained('bert-base-chinese')\n",
    "\n",
    "\n",
    "# Preprocess\n",
    "sent = '醒醒吧你沒有妹妹🙃'\n",
    "sent_token = ['[CLS]'] + tokenizer.tokenize(sent) + ['[SEP]']\n",
    "sent_token_encode = tokenizer.convert_tokens_to_ids(sent_token)\n",
    "sent_token_decode = tokenizer.convert_ids_to_tokens(sent_token_encode)\n",
    "\n",
    "print('sent:', sent)\n",
    "print('sent_token:', sent_token)\n",
    "print('encode:', sent_token_encode)\n",
    "print('decode:', sent_token_decode)"
   ]
  },
  {
   "cell_type": "code",
   "execution_count": null,
   "id": "1013b680",
   "metadata": {},
   "outputs": [],
   "source": []
  },
  {
   "cell_type": "code",
   "execution_count": null,
   "id": "f99ad13e",
   "metadata": {},
   "outputs": [],
   "source": []
  }
 ],
 "metadata": {
  "kernelspec": {
   "display_name": "torch1.8",
   "language": "python",
   "name": "torch1.8"
  },
  "language_info": {
   "codemirror_mode": {
    "name": "ipython",
    "version": 3
   },
   "file_extension": ".py",
   "mimetype": "text/x-python",
   "name": "python",
   "nbconvert_exporter": "python",
   "pygments_lexer": "ipython3",
   "version": "3.8.10"
  }
 },
 "nbformat": 4,
 "nbformat_minor": 5
}
